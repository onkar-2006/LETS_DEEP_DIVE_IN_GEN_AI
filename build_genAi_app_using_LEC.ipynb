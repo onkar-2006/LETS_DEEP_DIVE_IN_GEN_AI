{
  "nbformat": 4,
  "nbformat_minor": 0,
  "metadata": {
    "colab": {
      "provenance": []
    },
    "kernelspec": {
      "name": "python3",
      "display_name": "Python 3"
    },
    "language_info": {
      "name": "python"
    }
  },
  "cells": [
    {
      "cell_type": "code",
      "source": [
        "import os\n",
        "from dotenv import load_dotenv\n",
        "\n",
        "load_dotenv()\n",
        "\n",
        "os.environ[\"the api ket\"]=os.getenv(\"the api key\")\n",
        "os.environ[\"the api ket\"]=os.getenv(\"the api key\")\n",
        "os.environ[\"the api ket\"]=os.getenv(\"the api key\")"
      ],
      "metadata": {
        "id": "dAPrhRQEpM0s"
      },
      "execution_count": null,
      "outputs": []
    },
    {
      "cell_type": "code",
      "source": [
        "os.environ[\"the api ket\"]=os.getenv(\"the api key\")\n",
        "os.environ[\"the api key\"]='true'\n",
        "os.environ[\"the api ket\"]=os.getenv(\"the api lang projecgt \")"
      ],
      "metadata": {
        "id": "ymPFKS86qxvf"
      },
      "execution_count": null,
      "outputs": []
    },
    {
      "cell_type": "code",
      "source": [
        "from langchain.\n",
        "\n",
        "from langchain_core.output_parsers import StrOutputParser\n"
      ],
      "metadata": {
        "id": "7eUKA_G9olTX"
      },
      "execution_count": null,
      "outputs": []
    },
    {
      "cell_type": "code",
      "source": [
        "from langchain_core.messages import HumanMessage , AIMessage\n",
        "message=[\n",
        "    SystemMessage(content=\"transalte the english to french\"),\n",
        "    HumanMessage(content=\"how are you\")\n",
        "]\n",
        "model.invoke(message)"
      ],
      "metadata": {
        "id": "OCjU19oFvaXa"
      },
      "execution_count": null,
      "outputs": []
    },
    {
      "cell_type": "code",
      "source": [
        "chain=model|parser"
      ],
      "metadata": {
        "id": "kcbcFyxqxBXN"
      },
      "execution_count": null,
      "outputs": []
    },
    {
      "cell_type": "code",
      "source": [
        "from langchain_core.prompts import ChatPromptTemplate\n",
        "template=ChatPromptTemplate()\n",
        "generic_template=\"transfer the follwing into{language}\"\n",
        "promt=ChatPromptTemplate.from_messages(\n",
        "    [(\"system\" , generic_template),(\"user\" , \"{text}\")]\n",
        ")\n",
        "result=promt.invoke({\"language\":\"french\" , \"text\":\"hello\"})\n",
        "result.to_messages()"
      ],
      "metadata": {
        "id": "4qzaExl6wsEY"
      },
      "execution_count": null,
      "outputs": []
    },
    {
      "cell_type": "code",
      "source": [
        "chain=promt|model|parser\n",
        "chain.invoke({\"language\":'french' , \"text\":\"hello\"})"
      ],
      "metadata": {
        "id": "WlMKa6VcyP5s"
      },
      "execution_count": null,
      "outputs": []
    },
    {
      "cell_type": "code",
      "source": [
        "promt=ChatPromptsTemplate(\n",
        "    [\n",
        "        (\"system\":\"u are helpful assitant give the answer of the ask quetion\"),\n",
        "        (\"user\":\"question:{question}\")\n",
        "\n",
        "\n",
        "    ]\n",
        ")"
      ],
      "metadata": {
        "id": "PQjOArSdpd7K"
      },
      "execution_count": null,
      "outputs": []
    },
    {
      "cell_type": "code",
      "source": [
        "import streamlit as st\n",
        "st.title(\"this is the simple langchain project\")\n",
        "input_text=st.text_input(\"what question in ur mind\")"
      ],
      "metadata": {
        "id": "QhQZczoKqXZH"
      },
      "execution_count": null,
      "outputs": []
    },
    {
      "cell_type": "code",
      "source": [
        "llm=ollama(\"llama2\")\n",
        "output_parser=StrOutputParser()\n",
        "chain=promt|llm|output_parser"
      ],
      "metadata": {
        "id": "KTXPevSirDLx"
      },
      "execution_count": null,
      "outputs": []
    },
    {
      "cell_type": "code",
      "source": [
        "if input_text:\n",
        "  st.write(chain.invoke({\"question\":input_text}))"
      ],
      "metadata": {
        "id": "qwGfzR8srrPr"
      },
      "execution_count": null,
      "outputs": []
    }
  ]
}