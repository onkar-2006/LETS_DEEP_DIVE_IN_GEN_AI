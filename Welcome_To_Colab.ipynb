{
  "cells": [
    {
      "cell_type": "code",
      "source": [
        "#before doing the actually coding u must know how to how to build the gen ai application\n",
        "#ste-1 :load the data\n",
        "#the data is load by using the libraryy called langchain\n",
        "from langchain_community.document_loaders import text_loader\n",
        "loader=text_loader()\n",
        "text_document=loader.load()\n",
        "text_document"
      ],
      "metadata": {
        "id": "udg6zDjZN23r"
      },
      "execution_count": null,
      "outputs": []
    },
    {
      "cell_type": "markdown",
      "source": [
        "text document load"
      ],
      "metadata": {
        "id": "1EWD8I6qPc-d"
      }
    },
    {
      "cell_type": "code",
      "source": [
        "from langchain_community.document_loaders import text_loader\n",
        "loader=text_loader()\n",
        "text_document=loader.load()\n",
        "text_document"
      ],
      "metadata": {
        "id": "BN23OrEMN35K"
      },
      "execution_count": null,
      "outputs": []
    },
    {
      "cell_type": "markdown",
      "source": [
        "pdf loader"
      ],
      "metadata": {
        "id": "xLeLsm9oPexg"
      }
    },
    {
      "cell_type": "code",
      "source": [
        "from langchain_community.document_loaders import pyPDFloader\n",
        "loader=pyPDFloader('attention.pdf')\n",
        "doc=loader.load()\n",
        "doc"
      ],
      "metadata": {
        "id": "eM-arZuwPCLE"
      },
      "execution_count": null,
      "outputs": []
    },
    {
      "cell_type": "markdown",
      "source": [
        "web based loader"
      ],
      "metadata": {
        "id": "S3PWoz6fQhRb"
      }
    },
    {
      "cell_type": "code",
      "source": [
        "from langchain_community.document_loaders import WebBasedLoader\n",
        "import bs4\n",
        "loader=WebBasedLoader(web_paths=\"the link of the webpage\",),\n",
        "bs_kwargs=dict(parse_only=bs4.soupStrainer(\n",
        "    class_=(\"post-title\" ,\"post-container\" , \"post-header\"),\n",
        "))\n",
        "\n",
        ")\n"
      ],
      "metadata": {
        "id": "qT9V_RIEPcPt"
      },
      "execution_count": null,
      "outputs": []
    },
    {
      "cell_type": "code",
      "source": [
        "loader.load()"
      ],
      "metadata": {
        "id": "4KsduCVkRqwt"
      },
      "execution_count": null,
      "outputs": []
    },
    {
      "cell_type": "markdown",
      "source": [
        "load the arxiv"
      ],
      "metadata": {
        "id": "EN1yjC1PR5PC"
      }
    },
    {
      "cell_type": "code",
      "source": [
        "!pip install arxiv"
      ],
      "metadata": {
        "id": "zakeMAEcR4k2"
      },
      "execution_count": null,
      "outputs": []
    },
    {
      "cell_type": "code",
      "source": [
        "from langchain_community.document_loader import ArvixLoader\n",
        "docs=Arvixloader(quary=\"rearchpaper\" , load_max_paper=2).load()\n"
      ],
      "metadata": {
        "id": "RBhW9thDR-rG"
      },
      "execution_count": null,
      "outputs": []
    },
    {
      "cell_type": "markdown",
      "source": [
        "load the data from the wikipidia"
      ],
      "metadata": {
        "id": "XV8l7tzQS36f"
      }
    },
    {
      "cell_type": "code",
      "source": [
        "from langchain_community.document_loaders import WikipidiaLoader\n",
        "loader=WikipidiaLoder(quary=\"name of the page \" , max_document=2).load()\n",
        "load=loader.load()"
      ],
      "metadata": {
        "id": "p7NhCOTdS6xk"
      },
      "execution_count": null,
      "outputs": []
    }
  ],
  "metadata": {
    "colab": {
      "name": "Welcome To Colab",
      "toc_visible": true,
      "provenance": []
    },
    "kernelspec": {
      "display_name": "Python 3",
      "name": "python3"
    }
  },
  "nbformat": 4,
  "nbformat_minor": 0
}