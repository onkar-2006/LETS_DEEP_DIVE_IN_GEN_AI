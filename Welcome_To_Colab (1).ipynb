{
  "cells": [
    {
      "cell_type": "markdown",
      "source": [
        "# Convert the data or the file into the text"
      ],
      "metadata": {
        "id": "WegdfmM1pOBI"
      }
    },
    {
      "cell_type": "code",
      "source": [
        "#text splitter tequnic\n",
        "from langchain_community.document_loaders import pyPDFLoader\n",
        "loader=pyPDFloader('attention_loader')\n",
        "docs=loader.load()"
      ],
      "metadata": {
        "id": "tkN9i_bvY9Nn"
      },
      "execution_count": null,
      "outputs": []
    },
    {
      "cell_type": "markdown",
      "source": [
        "text splitting"
      ],
      "metadata": {
        "id": "FDs-MF4RZsij"
      }
    },
    {
      "cell_type": "code",
      "source": [
        "#how to recursivly split the text by character"
      ],
      "metadata": {
        "id": "JXq0lfQzZmfr"
      },
      "execution_count": null,
      "outputs": []
    },
    {
      "cell_type": "code",
      "source": [
        "!pip install langchain-textsplitters"
      ],
      "metadata": {
        "id": "a1hCRTL1Z8rf"
      },
      "execution_count": null,
      "outputs": []
    },
    {
      "cell_type": "code",
      "source": [
        "from langchain_text_splitters import RecursiveCharacterTextSplitter\n",
        "text_splitter=RecursiveCharacterTextSplitter(chunk_size=500 , chunk_overlap)\n",
        "final_document=text_splitter.split_documents(docs)\n",
        "final_document"
      ],
      "metadata": {
        "id": "oecK-3dLaJeG"
      },
      "execution_count": null,
      "outputs": []
    },
    {
      "cell_type": "code",
      "source": [
        "from langchain_community.document_loaders import TextLoader\n",
        "speech=TextLoader(\"speech.txt\")\n",
        "lod=loader.load()\n",
        "lod"
      ],
      "metadata": {
        "id": "4EXPNiYQbDQ2"
      },
      "execution_count": null,
      "outputs": []
    },
    {
      "cell_type": "code",
      "source": [
        "speech=''\n",
        "with open(\"speech.txt\") as f:\n",
        "  speech=f.read()\n",
        "sppech"
      ],
      "metadata": {
        "id": "KyDwH6N0dLV_"
      },
      "execution_count": null,
      "outputs": []
    },
    {
      "cell_type": "code",
      "source": [
        "text_splitter=RecursiveTextSplitter(chunk_size=500 , chunk_overlap=20)\n",
        "text=text_text_spillter.create_documents(['list'])\n",
        "text"
      ],
      "metadata": {
        "id": "1R_4qwLHdtTn"
      },
      "execution_count": null,
      "outputs": []
    },
    {
      "cell_type": "markdown",
      "source": [
        "character text splitter"
      ],
      "metadata": {
        "id": "_xHsJx70phGE"
      }
    },
    {
      "cell_type": "code",
      "source": [
        "from langchain_text_splitters import CharacterTextSplitter\n",
        "text_splitter=CharacterTextSplitter(separetor=\"\\n\\n\" , chunk_size=110, , chunk_overlap=20)\n",
        "text_splitter.split_document(docs)\n"
      ],
      "metadata": {
        "id": "bOww1gs3fJu5"
      },
      "execution_count": null,
      "outputs": []
    },
    {
      "cell_type": "code",
      "source": [
        "speech=''\n",
        "with open(\"speech.txt\") as f:\n",
        "  speech=f.read()\n",
        "\n",
        "  text_splitter=CharacterTextSplitter(chunk_size=500 , chunk_overlap=100)\n",
        "  text=text_splitter.create_documents([\"sppech\"])\n",
        "  text\n",
        "\n",
        "\n"
      ],
      "metadata": {
        "id": "4_t4l3mbhDER"
      },
      "execution_count": null,
      "outputs": []
    },
    {
      "cell_type": "code",
      "source": [
        "from langchain_text_splitters import HTMLHeaderTextSplitter\n",
        "html_string=\"\"\n",
        "header_to_split_on=[\n",
        "    (\"h1\" ,\"Header-1\"),\n",
        "    (\"h2\" , \"Header-2\"),\n",
        "    (\"h3\"  , \"Header-3\"),\n",
        "]\n",
        "html_splitter=HTMLHeaderTextSplitter(header_to_split_on)\n",
        "html_header_spliter=html_splitter.split_text(html_string)\n",
        "html_header_spliter\n"
      ],
      "metadata": {
        "id": "QsQpm0tyhYr8"
      },
      "execution_count": null,
      "outputs": []
    },
    {
      "cell_type": "markdown",
      "source": [
        "split the text on the basis of the json data"
      ],
      "metadata": {
        "id": "OIBfvAb8pl_3"
      }
    },
    {
      "cell_type": "code",
      "source": [
        "url=\"www.google.com\"\n",
        "header_to_split_on=[\n",
        "    (\"h1\" ,\"Header-1\"),\n",
        "    (\"h2\" , \"Header-2\"),\n",
        "    (\"h3\"  , \"Header-3\"),\n",
        "]\n",
        "\n",
        "html_splitter=HTMLHeaderTextSplitter(header_to_split_on)\n",
        "html_header_split=html_splitter.split_text_from_url(url)\n",
        "html_header_split"
      ],
      "metadata": {
        "id": "bJzhdBYplCGp"
      },
      "execution_count": null,
      "outputs": []
    },
    {
      "cell_type": "code",
      "source": [
        "import json\n",
        "import requests\n",
        "json_data=requests.get(\"json file data link\").json()"
      ],
      "metadata": {
        "id": "rE__-80ylcXa"
      },
      "execution_count": null,
      "outputs": []
    },
    {
      "cell_type": "code",
      "source": [
        "json_data=''\n",
        "from langchain_text_splitters import RecursiveJsonSplitter\n",
        "splitted_text=RecursiveJsonSplitter(max_chunk_size=300)\n",
        "split=splitted_text.split_json(json_data)"
      ],
      "metadata": {
        "id": "MT0_YEkOmpsE"
      },
      "execution_count": null,
      "outputs": []
    },
    {
      "cell_type": "code",
      "source": [
        "for chunk in split[:3]:\n",
        "  print(chunk)"
      ],
      "metadata": {
        "id": "j_VJ9b70nQqg"
      },
      "execution_count": null,
      "outputs": []
    },
    {
      "cell_type": "code",
      "source": [
        "docs=json_splitter.create_documents(texts=[\"split\"])"
      ],
      "metadata": {
        "id": "Z_Sz-dcVncF7"
      },
      "execution_count": null,
      "outputs": []
    },
    {
      "cell_type": "code",
      "source": [],
      "metadata": {
        "id": "MmPDtcs7o9px"
      },
      "execution_count": null,
      "outputs": []
    }
  ],
  "metadata": {
    "colab": {
      "name": "Welcome To Colab",
      "toc_visible": true,
      "provenance": []
    },
    "kernelspec": {
      "display_name": "Python 3",
      "name": "python3"
    }
  },
  "nbformat": 4,
  "nbformat_minor": 0
}